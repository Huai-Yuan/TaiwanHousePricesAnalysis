{
 "cells": [
  {
   "cell_type": "code",
   "execution_count": 5,
   "metadata": {},
   "outputs": [],
   "source": [
    "import os\n",
    "import zipfile\n",
    "from time import sleep\n",
    "from selenium import webdriver\n",
    "from selenium.webdriver.common.by import By\n",
    "from selenium.webdriver.support.select import Select"
   ]
  },
  {
   "cell_type": "code",
   "execution_count": 6,
   "metadata": {},
   "outputs": [],
   "source": [
    "download_path = os.getcwd() + \"\\\\downloads\"\n",
    "\n",
    "options = webdriver.ChromeOptions()\n",
    "prefs = {\"download.default_directory\" : download_path}\n",
    "options.add_experimental_option(\"prefs\",prefs)\n",
    "driver = webdriver.Chrome(options=options)\n",
    "driver.maximize_window()\n",
    "\n",
    "url = \"https://plvr.land.moi.gov.tw/DownloadOpenData\"\n",
    "driver.get(url)\n",
    "\n",
    "parent = driver.current_window_handle\n",
    "uselessWindows = driver.window_handles\n",
    "driver.switch_to.window(uselessWindows[-1])\n",
    "driver.close()\n",
    "driver.switch_to.window(uselessWindows[0])"
   ]
  },
  {
   "cell_type": "code",
   "execution_count": 7,
   "metadata": {},
   "outputs": [],
   "source": [
    "element_history = driver.find_element(by=By.LINK_TEXT, value=\"非本期下載\")\n",
    "element_history.click()\n",
    "sleep(5)\n",
    "\n",
    "element_format = driver.find_element(by=By.ID, value=\"fileFormatId\")\n",
    "select = Select(element_format)\n",
    "select.select_by_value(\"csv\")\n",
    "\n",
    "element_season = driver.find_element(by=By.ID, value=\"historySeason_id\")\n",
    "list_historySeason = element_season.text.split()\n",
    "select = Select(element_season)\n",
    "\n",
    "for historySeason in list_historySeason:\n",
    "    select.select_by_visible_text(historySeason)\n",
    "\n",
    "    element_download = driver.find_element(by=By.ID, value=\"downloadBtnId\")\n",
    "    element_download.click()\n",
    "\n",
    "    while not os.path.exists(\"./downloads/lvr_landcsv.zip\"):\n",
    "        sleep(1)\n",
    "\n",
    "    with zipfile.ZipFile(\"./downloads/lvr_landcsv.zip\", 'r') as zip_ref:\n",
    "        zip_ref.extractall(f\"./data/{historySeason}/\")\n",
    "\n",
    "    os.remove(\"./downloads/lvr_landcsv.zip\")\n",
    "\n",
    "driver.close()"
   ]
  }
 ],
 "metadata": {
  "interpreter": {
   "hash": "62b8e38797574a9de3c3f9bc79729bb88e3b9c6776c95587f79be5c56a9bdc90"
  },
  "kernelspec": {
   "display_name": "Python 3.10.2 64-bit",
   "language": "python",
   "name": "python3"
  },
  "language_info": {
   "codemirror_mode": {
    "name": "ipython",
    "version": 3
   },
   "file_extension": ".py",
   "mimetype": "text/x-python",
   "name": "python",
   "nbconvert_exporter": "python",
   "pygments_lexer": "ipython3",
   "version": "3.10.2"
  },
  "orig_nbformat": 4
 },
 "nbformat": 4,
 "nbformat_minor": 2
}
