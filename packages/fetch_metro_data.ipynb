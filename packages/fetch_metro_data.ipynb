{
 "cells": [
  {
   "cell_type": "code",
   "execution_count": 1,
   "metadata": {},
   "outputs": [],
   "source": [
    "import json\n",
    "import requests\n",
    "import pandas as pd\n",
    "from time import sleep\n",
    "from selenium import webdriver\n",
    "from selenium.webdriver.common.by import By"
   ]
  },
  {
   "cell_type": "code",
   "execution_count": 61,
   "metadata": {},
   "outputs": [],
   "source": [
    "API_Key = None # str"
   ]
  },
  {
   "cell_type": "code",
   "execution_count": 2,
   "metadata": {},
   "outputs": [],
   "source": [
    "driver = webdriver.Chrome()\n",
    "driver.maximize_window()"
   ]
  },
  {
   "cell_type": "code",
   "execution_count": 74,
   "metadata": {},
   "outputs": [],
   "source": [
    "def get_longitude_and_latitude(Station: str, API_Key:str):\n",
    "    address = \"捷運\" + Station + \"站\"\n",
    "    url = f\"https://maps.googleapis.com/maps/api/geocode/json?address={address}&key={API_Key}&language=zh\"\n",
    "    req = requests.get(url)\n",
    "    geo_info = json.loads(req.text)\n",
    "    if geo_info['status'] == 'ZERO_RESULTS':\n",
    "        return [address, None, None]\n",
    "    else:\n",
    "        address = geo_info['results'][0]['formatted_address']\n",
    "        lat_lng =  geo_info['results'][0]['geometry']['location']\n",
    "        return [address, lat_lng['lat'], lat_lng['lng']]"
   ]
  },
  {
   "cell_type": "code",
   "execution_count": 75,
   "metadata": {},
   "outputs": [],
   "source": [
    "# Taipei\n",
    "temp_list = []\n",
    "url = \"https://web.metro.taipei/pages/tw/ticketroutetimesingle/071\"\n",
    "driver.get(url)\n",
    "sleep(3)\n",
    "element_table = driver.find_element(by=By.TAG_NAME, value=\"table\").find_elements(by=By.TAG_NAME, value=\"tr\")\n",
    "StationNames = [i.text.split()[4] for i in element_table[2:]]\n",
    "for Station in StationNames:\n",
    "    temp_list.append(get_longitude_and_latitude(Station, API_Key))"
   ]
  },
  {
   "cell_type": "code",
   "execution_count": 78,
   "metadata": {},
   "outputs": [],
   "source": [
    "df = pd.DataFrame(temp_list, columns=['地址', '緯度', '經度'])\n",
    "df.to_csv(\"./metro_info/Taipei.csv\")"
   ]
  },
  {
   "cell_type": "code",
   "execution_count": 35,
   "metadata": {},
   "outputs": [],
   "source": [
    "# Taoyuan\n",
    "url = \"https://www.tymetro.com.tw/tymetro-new/tw/_pages/travel-guide/timetable-search.php\"\n",
    "driver.get(url)\n",
    "StationNames = driver.find_element(by=By.ID, value=\"start_station\").text.split(\"\\n\")[1:-1]"
   ]
  },
  {
   "cell_type": "code",
   "execution_count": 48,
   "metadata": {},
   "outputs": [],
   "source": [
    "# Taichung\n",
    "url = \"https://www.tmrt.com.tw/metro-life/ride-time-and-fare\"\n",
    "driver.get(url)\n",
    "StationNames = driver.find_element(by=By.NAME, value=\"stationSelection\").text.split(\"\\n\")[1:-1]"
   ]
  },
  {
   "cell_type": "code",
   "execution_count": 56,
   "metadata": {},
   "outputs": [],
   "source": [
    "# Kaohsiung\n",
    "url = \"https://www.krtc.com.tw/\"\n",
    "driver.get(url)\n",
    "StationNames = driver.find_element(by=By.ID, value=\"KRTCStartStation\").text.split(\"\\n\")[1:-1]\n",
    "StationNames = [i.strip() for i in StationNames]"
   ]
  },
  {
   "cell_type": "code",
   "execution_count": 79,
   "metadata": {},
   "outputs": [],
   "source": [
    "driver.close()"
   ]
  },
  {
   "cell_type": "code",
   "execution_count": null,
   "metadata": {},
   "outputs": [],
   "source": []
  }
 ],
 "metadata": {
  "interpreter": {
   "hash": "62b8e38797574a9de3c3f9bc79729bb88e3b9c6776c95587f79be5c56a9bdc90"
  },
  "kernelspec": {
   "display_name": "Python 3.10.2 64-bit",
   "language": "python",
   "name": "python3"
  },
  "language_info": {
   "codemirror_mode": {
    "name": "ipython",
    "version": 3
   },
   "file_extension": ".py",
   "mimetype": "text/x-python",
   "name": "python",
   "nbconvert_exporter": "python",
   "pygments_lexer": "ipython3",
   "version": "3.10.2"
  },
  "orig_nbformat": 4
 },
 "nbformat": 4,
 "nbformat_minor": 2
}
