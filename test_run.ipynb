{
 "cells": [
  {
   "cell_type": "code",
   "execution_count": 2,
   "metadata": {},
   "outputs": [],
   "source": [
    "import os\n",
    "\n",
    "from test_packages.metro import fetch_metro_data\n",
    "from test_packages.database import append_table\n",
    "from test_packages.transaction import fetch_transaction_data"
   ]
  },
  {
   "cell_type": "code",
   "execution_count": 3,
   "metadata": {},
   "outputs": [],
   "source": [
    "# test: fetch_transaction_data\n",
    "data_path = os.getcwd() + \"\\\\data\"\n",
    "transaction = fetch_transaction_data(data_path=data_path)\n",
    "transaction.get_transaction()"
   ]
  },
  {
   "cell_type": "code",
   "execution_count": null,
   "metadata": {},
   "outputs": [],
   "source": [
    "# test: fetch_metro_data\n",
    "API_Key = None\n",
    "metro = fetch_metro_data(data_path=data_path, API_Key=API_Key)\n",
    "metro.get_metro()"
   ]
  },
  {
   "cell_type": "code",
   "execution_count": 3,
   "metadata": {},
   "outputs": [
    {
     "name": "stdout",
     "output_type": "stream",
     "text": [
      "Write to MySQL successfully!\n"
     ]
    }
   ],
   "source": [
    "# DataFrame to MySQL\n",
    "path = \"./data/transaction/111年第1季/a_lvr_land_a.csv\"\n",
    "db_settings = {\n",
    "    \"user\": \"root\",\n",
    "    \"password\": \"1234567890\",\n",
    "    \"db\": \"houseprices\"}\n",
    "append_table(path=path, db_settings=db_settings, table_name=\"test\")"
   ]
  },
  {
   "cell_type": "code",
   "execution_count": 2,
   "metadata": {},
   "outputs": [],
   "source": [
    "import pandas as pd\n",
    "from test_packages.transaction import process_data\n",
    "\n",
    "path = \"./data/transaction/111年第1季/a_lvr_land_a.csv\"\n",
    "df = process_data(path)"
   ]
  },
  {
   "cell_type": "code",
   "execution_count": 66,
   "metadata": {},
   "outputs": [],
   "source": [
    "def format_date(S: pd.core.series.Series):\n",
    "    S = df[\"建築完成年月\"]\n",
    "    Dates = []\n",
    "    for i in S:\n",
    "        try:\n",
    "            date = str(19110000 + int(i))\n",
    "            Dates.append(f\"{date[:4]}-{date[4:6]}-{date[6:]}\")\n",
    "        except:\n",
    "            Dates.append(None)\n",
    "    \n",
    "    return Dates"
   ]
  },
  {
   "cell_type": "code",
   "execution_count": null,
   "metadata": {},
   "outputs": [],
   "source": []
  }
 ],
 "metadata": {
  "interpreter": {
   "hash": "62b8e38797574a9de3c3f9bc79729bb88e3b9c6776c95587f79be5c56a9bdc90"
  },
  "kernelspec": {
   "display_name": "Python 3.10.2 64-bit",
   "language": "python",
   "name": "python3"
  },
  "language_info": {
   "codemirror_mode": {
    "name": "ipython",
    "version": 3
   },
   "file_extension": ".py",
   "mimetype": "text/x-python",
   "name": "python",
   "nbconvert_exporter": "python",
   "pygments_lexer": "ipython3",
   "version": "3.10.2"
  },
  "orig_nbformat": 4
 },
 "nbformat": 4,
 "nbformat_minor": 2
}
